{
 "cells": [
  {
   "cell_type": "code",
   "execution_count": 8,
   "metadata": {},
   "outputs": [
    {
     "name": "stdout",
     "output_type": "stream",
     "text": [
      "The autoreload extension is already loaded. To reload it, use:\n",
      "  %reload_ext autoreload\n"
     ]
    }
   ],
   "source": [
    "%load_ext autoreload\n",
    "%autoreload 2"
   ]
  },
  {
   "cell_type": "markdown",
   "metadata": {},
   "source": [
    "# utilities.prompts\n",
    "\n",
    "> Fill in a module description here"
   ]
  },
  {
   "cell_type": "code",
   "execution_count": 9,
   "metadata": {},
   "outputs": [],
   "source": [
    "#| default_exp utilities.prompts"
   ]
  },
  {
   "cell_type": "code",
   "execution_count": 10,
   "metadata": {},
   "outputs": [],
   "source": [
    "#| hide\n",
    "from nbdev.showdoc import *"
   ]
  },
  {
   "cell_type": "code",
   "execution_count": 11,
   "metadata": {},
   "outputs": [],
   "source": [
    "#| export\n",
    "from typing import ClassVar\n",
    "\n",
    "from langchain.prompts import PromptTemplate, BasePromptTemplate\n",
    "from pydantic import BaseModel, Field\n",
    "\n",
    "from langGraph_swarm.utilities.prompts_components import *\n",
    "# from crewai.utilities import I18N"
   ]
  },
  {
   "cell_type": "code",
   "execution_count": 12,
   "metadata": {},
   "outputs": [],
   "source": [
    "#| export\n",
    "class Prompts(BaseModel):\n",
    "    \"\"\"Manages and generates prompts for a generic agent with support for different languages.\"\"\"\n",
    "\n",
    "    i18n: I18N = Field(default=I18N())\n",
    "\n",
    "    SCRATCHPAD_SLICE: ClassVar[str] = \"\\n{agent_scratchpad}\"\n",
    "\n",
    "    def task_execution_with_memory(self) -> BasePromptTemplate:\n",
    "        \"\"\"Generate a prompt for task execution with memory components.\"\"\"\n",
    "        return self._build_prompt([\"role_playing\", \"tools\", \"memory\", \"task\"])\n",
    "\n",
    "    def task_execution_without_tools(self) -> BasePromptTemplate:\n",
    "        \"\"\"Generate a prompt for task execution without tools components.\"\"\"\n",
    "        return self._build_prompt([\"role_playing\", \"task\"])\n",
    "\n",
    "    def task_execution(self) -> BasePromptTemplate:\n",
    "        \"\"\"Generate a standard prompt for task execution.\"\"\"\n",
    "        return self._build_prompt([\"role_playing\", \"tools\", \"task\"])\n",
    "    \n",
    "    def task_execution_openai(self) -> BasePromptTemplate:\n",
    "        \"\"\"Generate a standard prompt for task execution.\"\"\"\n",
    "        return self._build_prompt([\"role_playing\", \"tools\", \"task\"], openai=True)\n",
    "\n",
    "    def _build_prompt(self, components: list[str], openai: bool = False) -> BasePromptTemplate:\n",
    "        \"\"\"Constructs a prompt string from specified components.\"\"\"\n",
    "        prompt_parts = [self.i18n.slice(component) for component in components] if not openai else [self.i18n.openai_fn(component) for component in components]\n",
    "        prompt_parts.append(self.SCRATCHPAD_SLICE)\n",
    "        return PromptTemplate.from_template(\"\".join(prompt_parts))"
   ]
  },
  {
   "cell_type": "code",
   "execution_count": 14,
   "metadata": {},
   "outputs": [
    {
     "data": {
      "text/plain": [
       "PromptTemplate(input_variables=['agent_scratchpad', 'backstory', 'goal', 'input', 'role', 'tools'], template='You are {role}.\\n{backstory}\\n\\nYour personal goal is: {goal}TOOLS:\\n------\\nYou have access to only the following tools:\\n\\n{tools}\\n\\nBegin! This is VERY important to you, your job depends on it!\\n\\nCurrent Task: {input}\\n{agent_scratchpad}')"
      ]
     },
     "execution_count": 14,
     "metadata": {},
     "output_type": "execute_result"
    }
   ],
   "source": [
    "Prompts().task_execution_openai()"
   ]
  },
  {
   "cell_type": "code",
   "execution_count": 15,
   "metadata": {},
   "outputs": [],
   "source": [
    "#| hide\n",
    "import nbdev; nbdev.nbdev_export()"
   ]
  },
  {
   "cell_type": "code",
   "execution_count": null,
   "metadata": {},
   "outputs": [],
   "source": []
  }
 ],
 "metadata": {
  "kernelspec": {
   "display_name": "langGraph_swarm-zw9wcU1d",
   "language": "python",
   "name": "python3"
  },
  "language_info": {
   "codemirror_mode": {
    "name": "ipython",
    "version": 3
   },
   "file_extension": ".py",
   "mimetype": "text/x-python",
   "name": "python",
   "nbconvert_exporter": "python",
   "pygments_lexer": "ipython3",
   "version": "3.10.11"
  }
 },
 "nbformat": 4,
 "nbformat_minor": 4
}
