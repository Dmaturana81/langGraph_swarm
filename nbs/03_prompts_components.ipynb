{
 "cells": [
  {
   "cell_type": "code",
   "execution_count": 1,
   "metadata": {},
   "outputs": [],
   "source": [
    "%load_ext autoreload\n",
    "%autoreload 2"
   ]
  },
  {
   "cell_type": "markdown",
   "metadata": {},
   "source": [
    "# utilities.prompts_components\n",
    "\n",
    "> Fill in a module description here"
   ]
  },
  {
   "cell_type": "code",
   "execution_count": 2,
   "metadata": {},
   "outputs": [],
   "source": [
    "#| default_exp utilities.prompts_components"
   ]
  },
  {
   "cell_type": "code",
   "execution_count": 3,
   "metadata": {},
   "outputs": [],
   "source": [
    "#| hide\n",
    "from nbdev.showdoc import *"
   ]
  },
  {
   "cell_type": "code",
   "execution_count": 4,
   "metadata": {},
   "outputs": [],
   "source": [
    "#| export\n",
    "import json\n",
    "import os\n",
    "from typing import Dict, Optional\n",
    "\n",
    "from pydantic import BaseModel, Field, PrivateAttr, ValidationError, model_validator"
   ]
  },
  {
   "cell_type": "code",
   "execution_count": 5,
   "metadata": {},
   "outputs": [],
   "source": [
    "#| export\n",
    "class I18N(BaseModel):\n",
    "    _translations: Dict[str, Dict[str, str]] = PrivateAttr()\n",
    "    language: Optional[str] = Field(\n",
    "        default=\"en\",\n",
    "        description=\"Language used to load translations\",\n",
    "    )\n",
    "\n",
    "    @model_validator(mode=\"after\")\n",
    "    def load_translation(self) -> \"I18N\":\n",
    "        \"\"\"Load translations from a JSON file based on the specified language.\"\"\"\n",
    "        try:\n",
    "            dir_path = os.path.dirname(os.path.realpath(__file__))\n",
    "            prompts_path = os.path.join(\n",
    "                dir_path, f\"../translations/{self.language}.json\"\n",
    "            )\n",
    "\n",
    "            with open(prompts_path, \"r\") as f:\n",
    "                self._translations = json.load(f)\n",
    "        except FileNotFoundError:\n",
    "            raise ValidationError(\n",
    "                f\"Translation file for language '{self.language}' not found.\"\n",
    "            )\n",
    "        except json.JSONDecodeError:\n",
    "            raise ValidationError(f\"Error decoding JSON from the prompts file.\")\n",
    "\n",
    "        if not self._translations:\n",
    "            self._translations = {}\n",
    "\n",
    "        return self\n",
    "\n",
    "    def slice(self, slice: str) -> str:\n",
    "        return self.retrieve(\"slices\", slice)\n",
    "    \n",
    "    def openai_fn(self, slice: str) -> str:\n",
    "        return self.retrieve(\"openai_fn\", slice)\n",
    "\n",
    "    def errors(self, error: str) -> str:\n",
    "        return self.retrieve(\"errors\", error)\n",
    "\n",
    "    def tools(self, error: str) -> str:\n",
    "        return self.retrieve(\"tools\", error)\n",
    "\n",
    "    def retrieve(self, kind, key) -> str:\n",
    "        try:\n",
    "            return self._translations[kind][key]\n",
    "        except:\n",
    "            raise ValidationError(f\"Translation for '{kind}':'{key}'  not found.\")"
   ]
  },
  {
   "cell_type": "code",
   "execution_count": 6,
   "metadata": {},
   "outputs": [],
   "source": [
    "#| hide\n",
    "import nbdev; nbdev.nbdev_export()"
   ]
  },
  {
   "cell_type": "code",
   "execution_count": null,
   "metadata": {},
   "outputs": [],
   "source": []
  }
 ],
 "metadata": {
  "kernelspec": {
   "display_name": "langGraph_swarm-zw9wcU1d",
   "language": "python",
   "name": "python3"
  },
  "language_info": {
   "codemirror_mode": {
    "name": "ipython",
    "version": 3
   },
   "file_extension": ".py",
   "mimetype": "text/x-python",
   "name": "python",
   "nbconvert_exporter": "python",
   "pygments_lexer": "ipython3",
   "version": "3.10.11"
  }
 },
 "nbformat": 4,
 "nbformat_minor": 4
}
